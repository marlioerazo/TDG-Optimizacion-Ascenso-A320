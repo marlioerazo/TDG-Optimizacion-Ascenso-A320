{
  "nbformat": 4,
  "nbformat_minor": 0,
  "metadata": {
    "colab": {
      "provenance": []
    },
    "kernelspec": {
      "name": "python3",
      "display_name": "Python 3"
    },
    "language_info": {
      "name": "python"
    }
  },
  "cells": [
    {
      "cell_type": "markdown",
      "source": [
        "# Optimización Cuántica para la Trayectoria de Ascenso de Aeronaves"
      ],
      "metadata": {
        "id": "MK-c307kF96L"
      }
    },
    {
      "cell_type": "markdown",
      "source": [
        "Este notebook presenta una implementación de optimización de la trayectoria de ascenso utilizando computación cuántica (simulada) y clásica. El objetivo es minimizar una función de costo que representa el consumo de combustible y el tiempo de vuelo, considerando restricciones operacionales."
      ],
      "metadata": {
        "id": "w3w24q8rF_OV"
      }
    },
    {
      "cell_type": "code",
      "source": [
        "import numpy as np\n",
        "from scipy.optimize import minimize\n",
        "import sympy as sp\n",
        "import matplotlib.pyplot as plt\n",
        "from mpl_toolkits.mplot3d import Axes3D\n",
        "import dimod\n",
        "from pyqubo import Binary, Array\n",
        "from itertools import product\n",
        "\n",
        "def Fun(x): #Funcion principal de costo\n",
        "    # Código detallado de la función de costo (omitido para brevedad pero mostrada en el repositorio)\n",
        "    # Debe incluir las definiciones de Zp, F_N_MCL, ρ, M, CAS, etc.,\n",
        "    # así como la lógica para calcular la función de costo.\n",
        "    return φ(np.concatenate(([v_0], x1)), np.concatenate(([γ_0], x2*π/180)))\n",
        "\n",
        "def FF(x):\n",
        "    a = -Fun(x)\n",
        "    if a > 0:\n",
        "        return a\n",
        "    else:\n",
        "        return 58626 # Valor mas alto en la funcion\n",
        "\n",
        "print(FF([188.5, 1.7]))\n",
        "\n",
        "#Se crea una funcion que trabaje igualmente con arrays\n",
        "def fun(x, y):\n",
        "    if np.isscalar(x) and np.isscalar(y):\n",
        "        return FF([x, y])\n",
        "    else:\n",
        "        coords = np.stack((x, y), axis=-1)\n",
        "        vectorized_funn = np.vectorize(FF, signature='(n)->()')\n",
        "        return vectorized_funn(coords)\n",
        "\n",
        "x = np.array([[188, 1.7], [3, 4]])\n",
        "y = np.array([[5, 6], [7, 8]])\n",
        "\n",
        "resultado = fun(x, y)\n",
        "print(resultado)"
      ],
      "metadata": {
        "id": "gC3vH_m6GA-T"
      },
      "execution_count": null,
      "outputs": []
    },
    {
      "cell_type": "markdown",
      "source": [
        "## Exploración de Puntos Funcionales\n",
        "El siguiente código busca puntos funcionales dentro de un intervalo dado, utilizando una estrategia de búsqueda aleatoria con perturbaciones gaussianas y un filtro basado en la media y desviación estándar de los valores de la función."
      ],
      "metadata": {
        "id": "9b-gU1J3GBBM"
      }
    },
    {
      "cell_type": "code",
      "source": [
        "def buscar_puntos(f, punto_inicial, intervalo, n, nb, c):\n",
        "    puntos_encontrados = []\n",
        "    punto_actual = np.array(punto_inicial)\n",
        "    intervalos = np.array(intervalo)\n",
        "    varianza = c * (intervalos[:, 1] - intervalos[:, 0])\n",
        "\n",
        "    for _ in range(nb):\n",
        "        puntos = np.random.normal(loc=punto_actual, scale=varianza, size=(n, len(punto_inicial)))\n",
        "\n",
        "        puntos = [p for p in puntos if all(intervalos[i, 0] <= p[i] <= intervalos[i, 1] for i in range(len(p)))]\n",
        "\n",
        "        puntos_evaluados = [(p, f(*p)) for p in puntos]\n",
        "\n",
        "        # Calcular la media de los valores de f\n",
        "        if len(puntos_evaluados) > 0:  # Evitar la división por cero si no hay puntos\n",
        "            media_f = np.mean([valor_f for _, valor_f in puntos_evaluados])\n",
        "\n",
        "            # Filtrar puntos con f > media + 1.5*desviación estándar\n",
        "            puntos_evaluados = [(p, valor_f) for p, valor_f in puntos_evaluados if valor_f <= media_f + 1.2 * np.std([valor_f for _, valor_f in puntos_evaluados])]\n",
        "\n",
        "        puntos_evaluados.sort(key=lambda x: x[1])\n",
        "\n",
        "        # Solo añadir los puntos que pasaron el filtro\n",
        "        puntos_encontrados.extend([punto for punto, _ in puntos_evaluados])\n",
        "\n",
        "        if len(puntos_encontrados) > 0:  # Evitar error si no hay puntos después del filtro.\n",
        "            punto_actual = np.mean(puntos_encontrados, axis=0)\n",
        "\n",
        "\n",
        "    return puntos_encontrados"
      ],
      "metadata": {
        "id": "m2w6g_v9GBEY"
      },
      "execution_count": null,
      "outputs": []
    },
    {
      "cell_type": "markdown",
      "source": [
        "## Visualización de la Búsqueda\n",
        "Se grafica la distribución de los puntos encontrados en el espacio de búsqueda para visualizar la convergencia del algoritmo."
      ],
      "metadata": {
        "id": "-60y6Z-tGCBC"
      }
    },
    {
      "cell_type": "code",
      "source": [
        "puntos = buscar_puntos(fun, [188, 1.7], [[110,250],[0,20]],100, 10, 0.1)\n",
        "print(puntos)"
      ],
      "metadata": {
        "id": "V3NOC9W6yOMi"
      },
      "execution_count": null,
      "outputs": []
    },
    {
      "cell_type": "code",
      "source": [
        "x = [punto[0] for punto in puntos]\n",
        "y = [punto[1] for punto in puntos]\n",
        "\n",
        "z = [0] * len(puntos)\n",
        "\n",
        "# Crear la figura y el objeto de ejes 3D\n",
        "fig = plt.figure()\n",
        "ax = fig.add_subplot(111, projection='3d')\n",
        "\n",
        "# Graficar los puntos\n",
        "ax.scatter(x, y, z, c='r', marker='.')\n",
        "\n",
        "# Etiquetas de los ejes\n",
        "ax.set_xlabel('X')\n",
        "ax.set_ylabel('Y')\n",
        "ax.set_zlabel('Z')\n",
        "\n",
        "# Ajustar la vista (opcional, pero a menudo útil)\n",
        "ax.view_init(elev=20, azim=-35) # Ajusta estos valores para rotar la vista\n",
        "\n",
        "# Mostrar la gráfica\n",
        "plt.show()"
      ],
      "metadata": {
        "id": "l7OFd93QyS3g"
      },
      "execution_count": null,
      "outputs": []
    },
    {
      "cell_type": "markdown",
      "source": [
        "## Aproximación con Polinomios de Chebyshev\n",
        "Se utiliza una aproximación de la función de costo con polinomios de Chebyshev para simplificar la optimización cuántica."
      ],
      "metadata": {
        "id": "dQx-qS35GCDz"
      }
    },
    {
      "cell_type": "code",
      "source": [
        "def chebyshev_polynomial(n, x):\n",
        "    \"\"\"Generate symbolic Chebyshev polynomial of degree n\"\"\"\n",
        "    if n == 0:\n",
        "        return sp.Integer(1)\n",
        "    elif n == 1:\n",
        "        return x\n",
        "    else:\n",
        "        return 2 * x * chebyshev_polynomial(n - 1, x) - chebyshev_polynomial(n - 2, x)\n",
        "\n",
        "def scale_to_chebyshev(x, interval):\n",
        "    \"\"\"Scale x from [a,b] to [-1,1]\"\"\"\n",
        "    a, b = interval\n",
        "    return 2 * (x - a) / (b - a) - 1\n",
        "\n",
        "def polinomio_de_cheb(f, p, g):\n",
        "    \"\"\"\n",
        "    Genera un polinomio de Chebyshev de grado g que aproxima la función f usando los puntos en p.\n",
        "\n",
        "    Parámetros:\n",
        "    - f: función original que se desea aproximar.\n",
        "    - p: lista de puntos a utilizar para la aproximación.\n",
        "    - g: grado del polinomio de Chebyshev.\n",
        "\n",
        "    Retorna:\n",
        "    - Un polinomio simbólico de Chebyshev en términos de x1, x2, ..., xn.\n",
        "    \"\"\"\n",
        "    # Deduce el número de variables (dimensión) a partir del primer punto en p\n",
        "    num_vars = len(p[0])\n",
        "    variables = sp.symbols(f'x1:{num_vars + 1}')  # Crea x1, x2, ..., xn\n",
        "\n",
        "    # Determina los intervalos de cada variable en los puntos p\n",
        "    intervals = [(min([point[i] for point in p]), max([point[i] for point in p])) for i in range(num_vars)]\n",
        "\n",
        "    # Escala los puntos en p al espacio [-1, 1] usando los intervalos determinados\n",
        "    points_cheb = np.array([\n",
        "        [scale_to_chebyshev(point[i], intervals[i]) for i in range(num_vars)]\n",
        "        for point in p\n",
        "    ])\n",
        "\n",
        "    # Evalúa la función en cada punto en p\n",
        "    f_values = np.array([f(*point) for point in p])\n",
        "\n",
        "    # Construye la matriz de Vandermonde en el espacio de Chebyshev\n",
        "    num_terms = sum(1 for i in range(g + 1) for j in range(g + 1) if i + j <= g)\n",
        "    V = np.zeros((len(p), num_terms))\n",
        "    idx = 0\n",
        "    for indices in product(range(g + 1), repeat=num_vars):\n",
        "        if sum(indices) <= g:\n",
        "            term_val = np.ones(len(p))\n",
        "            for var_index, degree in enumerate(indices):\n",
        "                term_val *= np.polynomial.chebyshev.chebval(points_cheb[:, var_index], [0] * degree + [1])\n",
        "            V[:, idx] = term_val\n",
        "            idx += 1\n",
        "\n",
        "    # Resuelve el sistema usando mínimos cuadrados\n",
        "    coeffs = np.linalg.lstsq(V, f_values, rcond=None)[0]\n",
        "\n",
        "    # Construye el polinomio simbólico en términos de las variables\n",
        "    expr = sp.Integer(0)\n",
        "    idx = 0\n",
        "    for indices in product(range(g + 1), repeat=num_vars):\n",
        "        if sum(indices) <= g:\n",
        "            term = coeffs[idx]\n",
        "            for var_index, degree in enumerate(indices):\n",
        "                term *= chebyshev_polynomial(degree, scale_to_chebyshev(variables[var_index], intervals[var_index]))\n",
        "            expr += term\n",
        "            idx += 1\n",
        "\n",
        "    # Simplifica la expresión simbólica\n",
        "    expr = sp.simplify(expr)\n",
        "    return expr\n"
      ],
      "metadata": {
        "id": "hE-lG4_jGCFV"
      },
      "execution_count": null,
      "outputs": []
    },
    {
      "cell_type": "code",
      "source": [
        "polinomio_de_cheb(fun, puntos, 5)"
      ],
      "metadata": {
        "id": "uMxfjDLjyq6O"
      },
      "execution_count": null,
      "outputs": []
    },
    {
      "cell_type": "code",
      "source": [
        "f_example = fun\n",
        "grado = 5\n",
        "\n",
        "# Obtener el polinomio de Chebyshev usando el código anterior\n",
        "polinomio_chebyshev = polinomio_de_cheb(f_example, puntos, grado)\n",
        "\n",
        "# Crear la función evaluable a partir del polinomio de Chebyshev\n",
        "x1, x2 = sp.symbols('x1 x2')\n",
        "\n",
        "polinomio_func = sp.lambdify((x1, x2), polinomio_chebyshev, 'numpy')\n",
        "\n",
        "# Intervalo para la gráfica\n",
        "interval_x = (0, 10)\n",
        "interval_y = (0, 10)\n",
        "\n",
        "\n",
        "interval_x = (150, 240)\n",
        "interval_y = (0, 7)\n",
        "\n",
        "#interval_z = (-2, 3)\n",
        "\n",
        "resolucion = 50  # número de puntos en cada eje\n",
        "\n",
        "# Generar malla para graficar\n",
        "x_vals = np.linspace(*interval_x, resolucion)\n",
        "y_vals = np.linspace(*interval_y, resolucion)\n",
        "X, Y = np.meshgrid(x_vals, y_vals)\n",
        "\n",
        "# Evaluar función original en la malla\n",
        "Z_original = f_example(X, Y)\n",
        "umbral = 58500  # Define tu umbral\n",
        "# Reemplaza valores mayores al umbral con np.nan\n",
        "Z_original = np.where(Z_original > umbral, np.nan, Z_original)\n",
        "\n",
        "\n",
        "# Evaluar el polinomio de Chebyshev en la malla\n",
        "Z_chebyshev = polinomio_func(X, Y)\n",
        "\n",
        "# Graficar\n",
        "\n",
        "fig = plt.figure(figsize=(18, 6))\n",
        "\n",
        "# 1. Gráfica de la función original\n",
        "ax1 = fig.add_subplot(131, projection='3d')\n",
        "surf1 = ax1.plot_surface(X, Y, Z_original, cmap='viridis', alpha=0.8)\n",
        "ax1.set_title('Función Original')\n",
        "ax1.set_xlabel('x')\n",
        "ax1.set_ylabel('y')\n",
        "ax1.set_zlabel('z')\n",
        "###ax1.set_zlim(interval_z)\n",
        "\n",
        "# 2. Gráfica del polinomio de Chebyshev\n",
        "ax2 = fig.add_subplot(132, projection='3d')\n",
        "surf2 = ax2.plot_surface(X, Y, Z_chebyshev, cmap='viridis', alpha=0.8)\n",
        "ax2.set_title('Aproximación de Chebyshev')\n",
        "ax2.set_xlabel('x')\n",
        "ax2.set_ylabel('y')\n",
        "ax2.set_zlabel('z')\n",
        "ax2.set_ylim(0,7.2)\n",
        "ax2.set_xlim(150,240)\n",
        "#ax2.set_zlim((53850,53900))\n",
        "\n",
        "# 3. Gráfica de la función original con los puntos de muestreo resaltados\n",
        "ax3 = fig.add_subplot(133, projection='3d')\n",
        "#surf3 = ax3.plot_surface(X, Y, Z_original, cmap='viridis', alpha=0.8)\n",
        "ax3.scatter([p[0] for p in puntos], [p[1] for p in puntos],\n",
        "            [f_example(p[0], p[1]) for p in puntos],\n",
        "            color='red', marker='.',s=50, label='Puntos de Muestreo')\n",
        "ax3.set_title('Función Original con Puntos de Muestreo')\n",
        "ax3.set_xlabel('x')\n",
        "###ax3.set_ylabel('y')\n",
        "ax3.set_ylabel('y')\n",
        "ax3.set_zlabel('z')\n",
        "ax3.legend()\n",
        "\n",
        "plt.tight_layout()\n",
        "plt.show()\n"
      ],
      "metadata": {
        "id": "3FmeEpniyytx"
      },
      "execution_count": null,
      "outputs": []
    },
    {
      "cell_type": "markdown",
      "source": [
        "## Optimización Cuántica\n",
        "Se implementa la optimización cuántica utilizando un simulador de recocido cuántico (D-Wave).\n",
        "\n"
      ],
      "metadata": {
        "id": "4R6-R36GGCHW"
      }
    },
    {
      "cell_type": "markdown",
      "source": [
        "En el siguiente codigo se hace finalmente la optimizacion usando un computador cuantico (simulado), sobre la funcion para N=2 aproximada mediante los polinomios de chebychev udando 10 bits."
      ],
      "metadata": {
        "id": "A2KyJ5akzVZi"
      }
    },
    {
      "cell_type": "code",
      "source": [
        "def funcion_objetivo(x, y):\n",
        "    return 3.00755171107551*x + 23.4759463762618*y + 57739.0525970849\n",
        "\n",
        "def visualizar_funcion(x_valor, y_valor): #  Se pasan x_valor e y_valor para graficarlos.\n",
        "    x = np.linspace(150, 240, 100)\n",
        "    y = np.linspace(0, 7, 100)\n",
        "    X, Y = np.meshgrid(x, y)\n",
        "    Z = funcion_objetivo(X, Y)\n",
        "\n",
        "    plt.figure(figsize=(10, 8))\n",
        "    plt.contour(X, Y, Z, levels=20)\n",
        "    plt.colorbar(label='f(x,y)')\n",
        "    plt.xlabel('x')\n",
        "    plt.ylabel('y')\n",
        "    plt.title('Contorno de la función objetivo')\n",
        "    plt.plot(x_valor, y_valor, 'r*', markersize=15, label='Solución encontrada') #  Graficar el punto encontrado.\n",
        "    plt.legend()\n",
        "    plt.show()\n",
        "\n",
        "def crear_qubo(num_bits=4): # Parámetro para el número de bits\n",
        "    x_bits = Array.create('x', shape=num_bits, vartype='BINARY') #Usar array de PyQUBO facilita la suma.\n",
        "    y_bits = Array.create('y', shape=num_bits, vartype='BINARY')\n",
        "\n",
        "    x_min, x_max = 150, 240\n",
        "    y_min, y_max = 0, 7\n",
        "\n",
        "    x_scale = (x_max - x_min) / (2**num_bits - 1)\n",
        "    y_scale = (y_max - y_min) / (2**num_bits - 1)\n",
        "\n",
        "    x = x_min + x_scale * sum(2**i * x_bits[i] for i in range(num_bits))\n",
        "    y = y_min + y_scale * sum(2**i * y_bits[i] for i in range(num_bits))\n",
        "\n",
        "    H = 3.00755171107551*x + 23.4759463762618*y + 57739.0525970849\n",
        "\n",
        "    model = H.compile()\n",
        "    bqm = model.to_bqm()\n",
        "\n",
        "    return bqm\n",
        "\n",
        "def resolver_y_mostrar_resultados(num_bits=4, num_reads=1000):  #  Parámetros para bits y lecturas\n",
        "    bqm = crear_qubo(num_bits)\n",
        "\n",
        "    sampler = dimod.SimulatedAnnealingSampler()\n",
        "    sampleset = sampler.sample(bqm, num_reads=num_reads) # Usar num_reads\n",
        "\n",
        "    mejor_muestra = sampleset.first.sample\n",
        "\n",
        "    x_min, x_max = 150, 240\n",
        "    y_min, y_max = 0, 7\n",
        "\n",
        "    x_scale = (x_max - x_min) / (2**num_bits - 1)\n",
        "    y_scale = (y_max - y_min) / (2**num_bits - 1)\n",
        "\n",
        "    x_valor = x_min + x_scale * sum(2**i * mejor_muestra[f'x[{i}]'] for i in range(num_bits)) #  Acceso al array con [i].\n",
        "    y_valor = y_min + y_scale * sum(2**i * mejor_muestra[f'y[{i}]'] for i in range(num_bits)) #  Acceso al array con [i].\n",
        "\n",
        "\n",
        "    print(f\"\\nMejor solución encontrada:\")\n",
        "    print(f\"x = {x_valor:.4f}\")\n",
        "    print(f\"y = {y_valor:.4f}\")\n",
        "    print(f\"f(x,y) = {funcion_objetivo(x_valor, y_valor):.4f}\")\n",
        "\n",
        "    visualizar_funcion(x_valor, y_valor) #  Se pasa x_valor e y_valor.\n",
        "\n",
        "\n",
        "if __name__ == \"__main__\":\n",
        "    print(\"Optimizando función cuadrática usando D-Wave simulado...\")\n",
        "\n",
        "    resolver_y_mostrar_resultados(num_bits=10, num_reads=10)  #  Mayor número de bits y lecturas."
      ],
      "metadata": {
        "id": "n69G53R9GCJ3"
      },
      "execution_count": null,
      "outputs": []
    },
    {
      "cell_type": "markdown",
      "source": [
        "## Optimización Clásica\n",
        "Se implementa la optimización clásica como punto de comparación, utilizando el método Nelder-Mead."
      ],
      "metadata": {
        "id": "W7bJ_2zRGCLe"
      }
    },
    {
      "cell_type": "code",
      "source": [
        "def optimizar_no_suave(fun, x0, y0, bounds_x, bounds_y, method='Nelder-Mead', reinicios=5):\n",
        "    \"\"\"Optimiza una función no suave fun(x, y).\"\"\"\n",
        "\n",
        "    def fun_wrapper(params):\n",
        "        x, y = params\n",
        "        return fun(x, y)\n",
        "\n",
        "    punto_inicial = np.array([x0, y0])\n",
        "    bounds = [bounds_x, bounds_y]\n",
        "\n",
        "    mejor_resultado = None\n",
        "    mejor_valor = np.inf\n",
        "\n",
        "    for _ in range(reinicios):  # Reinicia la optimización varias veces\n",
        "        result = minimize(fun_wrapper, punto_inicial, bounds=bounds, method=method)\n",
        "\n",
        "        if result.success and result.fun < mejor_valor:  # Guarda el mejor resultado\n",
        "            mejor_resultado = result\n",
        "            mejor_valor = result.fun\n",
        "\n",
        "        # Genera un nuevo punto inicial aleatorio dentro de los límites\n",
        "        punto_inicial = np.array([\n",
        "            np.random.uniform(bounds_x[0], bounds_x[1]),\n",
        "            np.random.uniform(bounds_y[0], bounds_y[1])\n",
        "        ])\n",
        "\n",
        "    if mejor_resultado:\n",
        "        x_optimo, y_optimo = mejor_resultado.x\n",
        "        print(\"x óptimo:\", x_optimo)\n",
        "        print(\"y óptimo:\", y_optimo)\n",
        "        print(\"Valor óptimo:\", mejor_resultado.fun)\n",
        "        return x_optimo, y_optimo\n",
        "    else:\n",
        "        print(\"La optimización no convergió en ninguna de las iteraciones.\")\n",
        "        return None\n",
        "\n",
        "\n",
        "\n",
        "\n",
        "x_inicial = 180\n",
        "y_inicial = 1.7\n",
        "limites_x = (150, 240)\n",
        "limites_y = (0, 7)\n",
        "\n",
        "x_opt, y_opt = optimizar_no_suave(fun, x_inicial, y_inicial, limites_x, limites_y)"
      ],
      "metadata": {
        "id": "w2_m4aO3GCLx"
      },
      "execution_count": null,
      "outputs": []
    }
  ]
}
